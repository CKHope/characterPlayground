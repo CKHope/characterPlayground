{
 "cells": [
  {
   "cell_type": "code",
   "execution_count": 3,
   "metadata": {},
   "outputs": [
    {
     "name": "stderr",
     "output_type": "stream",
     "text": [
      "INFO:root:Done compiling 12040 characters\n"
     ]
    },
    {
     "data": {
      "text/markdown": [
       "### Information for Character: `前`"
      ],
      "text/plain": [
       "<IPython.core.display.Markdown object>"
      ]
     },
     "metadata": {},
     "output_type": "display_data"
    },
    {
     "data": {
      "text/markdown": [
       "#### Components"
      ],
      "text/plain": [
       "<IPython.core.display.Markdown object>"
      ]
     },
     "metadata": {},
     "output_type": "display_data"
    },
    {
     "data": {
      "text/markdown": [
       "**1. character:** Not a valid Chinese character"
      ],
      "text/plain": [
       "<IPython.core.display.Markdown object>"
      ]
     },
     "metadata": {},
     "output_type": "display_data"
    },
    {
     "data": {
      "text/markdown": [
       "**2. once:** Not a valid Chinese character"
      ],
      "text/plain": [
       "<IPython.core.display.Markdown object>"
      ]
     },
     "metadata": {},
     "output_type": "display_data"
    },
    {
     "data": {
      "text/markdown": [
       "**3. radical:** Not a valid Chinese character"
      ],
      "text/plain": [
       "<IPython.core.display.Markdown object>"
      ]
     },
     "metadata": {},
     "output_type": "display_data"
    },
    {
     "data": {
      "text/markdown": [
       "**4. graphical:** Not a valid Chinese character"
      ],
      "text/plain": [
       "<IPython.core.display.Markdown object>"
      ]
     },
     "metadata": {},
     "output_type": "display_data"
    },
    {
     "data": {
      "text/markdown": [
       "#### Characters Containing This Component"
      ],
      "text/plain": [
       "<IPython.core.display.Markdown object>"
      ]
     },
     "metadata": {},
     "output_type": "display_data"
    },
    {
     "data": {
      "text/markdown": [
       "**1. 箭 (jian4):** arrow, CL:支[zhi1]"
      ],
      "text/plain": [
       "<IPython.core.display.Markdown object>"
      ]
     },
     "metadata": {},
     "output_type": "display_data"
    },
    {
     "data": {
      "text/markdown": [
       "**2. 剪 (jian3):** scissors, shears, clippers, CL:把[ba3], to cut with scissors, to trim, to wipe out or exterminate"
      ],
      "text/plain": [
       "<IPython.core.display.Markdown object>"
      ]
     },
     "metadata": {},
     "output_type": "display_data"
    },
    {
     "data": {
      "text/markdown": [
       "**3. 煎 (jian1):** to pan fry, to sauté"
      ],
      "text/plain": [
       "<IPython.core.display.Markdown object>"
      ]
     },
     "metadata": {},
     "output_type": "display_data"
    },
    {
     "data": {
      "text/markdown": [
       "**4. 翦 (jian3):** variant of 剪[jian3]"
      ],
      "text/plain": [
       "<IPython.core.display.Markdown object>"
      ]
     },
     "metadata": {},
     "output_type": "display_data"
    },
    {
     "data": {
      "text/markdown": [
       "**5. 湔 (jian1):** to wash, to redress (a wrong), name of a river"
      ],
      "text/plain": [
       "<IPython.core.display.Markdown object>"
      ]
     },
     "metadata": {},
     "output_type": "display_data"
    },
    {
     "data": {
      "text/markdown": [
       "**6. 鬋 (jian1):** to hang down (hair)"
      ],
      "text/plain": [
       "<IPython.core.display.Markdown object>"
      ]
     },
     "metadata": {},
     "output_type": "display_data"
    },
    {
     "data": {
      "text/markdown": [
       "**7. 葥 (qian2):** Rubus palmatus"
      ],
      "text/plain": [
       "<IPython.core.display.Markdown object>"
      ]
     },
     "metadata": {},
     "output_type": "display_data"
    }
   ],
   "source": [
    "from hanzipy.decomposer import HanziDecomposer\n",
    "from pycccedict.cccedict import CcCedict\n",
    "from rich.console import Console\n",
    "from rich.table import Table\n",
    "from IPython.display import display, Markdown\n",
    "\n",
    "# Initialize tools\n",
    "decomposer = HanziDecomposer()\n",
    "cccedict = CcCedict()\n",
    "console = Console()\n",
    "\n",
    "def get_character_info(character):\n",
    "    \"\"\"\n",
    "    Retrieves information about a Chinese character:\n",
    "    - Its components (radicals)\n",
    "    - Characters that contain it as a component\n",
    "    \"\"\"\n",
    "    # Create a table for components of the character\n",
    "    components_table = Table(title=f\"Components of '{character}'\", style=\"cyan\")\n",
    "    components_table.add_column(\"Index\", justify=\"center\", style=\"bold magenta\")\n",
    "    components_table.add_column(\"Component\", justify=\"center\", style=\"bold green\")\n",
    "    components_table.add_column(\"Definition\", justify=\"left\", style=\"yellow\")\n",
    "\n",
    "    # Decompose the character into components\n",
    "    components = decomposer.decompose(character)\n",
    "    \n",
    "    # Check if decomposition returned valid data\n",
    "    if not components:\n",
    "        console.print(f\"No decomposition found for '{character}'\", style=\"bold red\")\n",
    "        return\n",
    "    \n",
    "    for i, comp in enumerate(components, start=1):\n",
    "        if len(comp) == 1:  # Ensure it's a single character\n",
    "            entry = cccedict.get_entry(comp)\n",
    "            definition = \", \".join(entry[\"definitions\"]) if entry else \"No definition found\"\n",
    "        else:\n",
    "            definition = \"Not a valid Chinese character\"\n",
    "        components_table.add_row(str(i), comp, definition)\n",
    "\n",
    "    # Display the components table in the terminal\n",
    "    console.print(components_table)\n",
    "\n",
    "    # Create a table for characters containing this component\n",
    "    containing_table = Table(title=f\"Characters Containing '{character}' as a Component\", style=\"cyan\")\n",
    "    containing_table.add_column(\"Index\", justify=\"center\", style=\"bold magenta\")\n",
    "    containing_table.add_column(\"Character\", justify=\"center\", style=\"bold green\")\n",
    "    containing_table.add_column(\"Pinyin\", justify=\"center\", style=\"yellow\")\n",
    "    containing_table.add_column(\"Definition\", justify=\"left\", style=\"yellow\")\n",
    "\n",
    "    # Find characters containing the target character as a component\n",
    "    containing_chars = decomposer.get_characters_with_component(character)\n",
    "    \n",
    "    if not containing_chars:\n",
    "        console.print(f\"No characters found containing '{character}' as a component.\", style=\"bold red\")\n",
    "        return\n",
    "    \n",
    "    for i, char in enumerate(containing_chars, start=1):\n",
    "        entry = cccedict.get_entry(char)\n",
    "        pinyin = entry[\"pinyin\"] if entry else \"N/A\"\n",
    "        definition = \", \".join(entry[\"definitions\"]) if entry else \"No definition found\"\n",
    "        containing_table.add_row(str(i), char, pinyin, definition)\n",
    "\n",
    "    # Display the containing characters table in the terminal\n",
    "    console.print(containing_table)\n",
    "\n",
    "def display_character_info_in_notebook(character):\n",
    "    \"\"\"\n",
    "    Displays character information interactively in a Jupyter Notebook.\n",
    "    \"\"\"\n",
    "    display(Markdown(f\"### Information for Character: `{character}`\"))\n",
    "\n",
    "    # Decompose the character into components\n",
    "    components = decomposer.decompose(character)\n",
    "    \n",
    "    if not components:\n",
    "        display(Markdown(f\"**No decomposition found for `{character}`**\"))\n",
    "        return\n",
    "    \n",
    "    # Display Components Table\n",
    "    display(Markdown(\"#### Components\"))\n",
    "    \n",
    "    for i, comp in enumerate(components, start=1):\n",
    "        if len(comp) == 1:  # Ensure it's a single character\n",
    "            entry = cccedict.get_entry(comp)\n",
    "            definition = \", \".join(entry[\"definitions\"]) if entry else \"No definition found\"\n",
    "        else:\n",
    "            definition = \"Not a valid Chinese character\"\n",
    "        \n",
    "        display(Markdown(f\"**{i}. {comp}:** {definition}\"))\n",
    "\n",
    "    # Find characters containing the target character as a component\n",
    "    containing_chars = decomposer.get_characters_with_component(character)\n",
    "\n",
    "    if not containing_chars:\n",
    "        display(Markdown(f\"**No characters found containing `{character}` as a component.**\"))\n",
    "        return\n",
    "\n",
    "    # Display Containing Characters Table\n",
    "    display(Markdown(\"#### Characters Containing This Component\"))\n",
    "    \n",
    "    for i, char in enumerate(containing_chars, start=1):\n",
    "        entry = cccedict.get_entry(char)\n",
    "        pinyin = entry[\"pinyin\"] if entry else \"N/A\"\n",
    "        definition = \", \".join(entry[\"definitions\"]) if entry else \"No definition found\"\n",
    "        \n",
    "        display(Markdown(f\"**{i}. {char} ({pinyin}):** {definition}\"))\n",
    "\n",
    "# Example Usage: Run this cell and replace '前' with any Chinese character you want to analyze.\n",
    "character_to_analyze = \"前\"  # Replace with your desired character\n",
    "display_character_info_in_notebook(character_to_analyze)\n"
   ]
  }
 ],
 "metadata": {
  "kernelspec": {
   "display_name": "venv",
   "language": "python",
   "name": "python3"
  },
  "language_info": {
   "codemirror_mode": {
    "name": "ipython",
    "version": 3
   },
   "file_extension": ".py",
   "mimetype": "text/x-python",
   "name": "python",
   "nbconvert_exporter": "python",
   "pygments_lexer": "ipython3",
   "version": "3.12.3"
  }
 },
 "nbformat": 4,
 "nbformat_minor": 2
}
